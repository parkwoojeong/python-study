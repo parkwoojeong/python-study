{
 "cells": [
  {
   "cell_type": "code",
   "execution_count": 1,
   "id": "a77590b5",
   "metadata": {},
   "outputs": [
    {
     "name": "stdout",
     "output_type": "stream",
     "text": [
      "안녕하세요\n"
     ]
    }
   ],
   "source": [
    "print(\"안녕하세요\")"
   ]
  },
  {
   "cell_type": "markdown",
   "id": "02f6b787",
   "metadata": {},
   "source": [
    "# 1단계 제목\n",
    "## 2단계 지목\n",
    "### 3단계 제목\n",
    "일반 서식 **강조** 입니**다**"
   ]
  },
  {
   "cell_type": "code",
   "execution_count": 2,
   "id": "9798cb56",
   "metadata": {},
   "outputs": [
    {
     "name": "stdout",
     "output_type": "stream",
     "text": [
      " C 드라이브의 볼륨에는 이름이 없습니다.\n",
      " 볼륨 일련 번호: 88E2-3D64\n",
      "\n",
      " C:\\Users\\USER\\Documents 디렉터리\n",
      "\n",
      "2023-01-19  오후 07:01    <DIR>          .\n",
      "2023-01-19  오후 07:01    <DIR>          ..\n",
      "2023-01-19  오후 06:59    <DIR>          .ipynb_checkpoints\n",
      "2018-11-14  오전 10:52    <DIR>          Bandicam\n",
      "2018-10-18  오후 01:48    <DIR>          ezPDFReader3.0\n",
      "2020-10-05  오후 07:53    <DIR>          oCam\n",
      "2019-01-04  오후 06:17    <DIR>          uccast\n",
      "2023-01-19  오후 07:01               846 woojyooomi.ipynb\n",
      "2021-10-25  오전 09:17    <DIR>          Zoom\n",
      "2021-01-20  오후 01:35    <DIR>          _tmp2011\n",
      "2021-08-23  오후 06:35    <DIR>          멜론 보관함\n",
      "2018-04-15  오후 04:20    <DIR>          사용자 지정 Office 서식 파일\n",
      "2022-11-22  오후 08:55    <DIR>          카카오톡 받은 파일\n",
      "               1개 파일                 846 바이트\n",
      "              12개 디렉터리  23,673,704,448 바이트 남음\n"
     ]
    }
   ],
   "source": [
    "!dir"
   ]
  },
  {
   "cell_type": "code",
   "execution_count": 5,
   "id": "968b271c",
   "metadata": {},
   "outputs": [
    {
     "data": {
      "text/plain": [
       "'바보'"
      ]
     },
     "execution_count": 5,
     "metadata": {},
     "output_type": "execute_result"
    }
   ],
   "source": [
    "a = \"바보\"\n",
    "a"
   ]
  },
  {
   "cell_type": "code",
   "execution_count": 6,
   "id": "b048d62f",
   "metadata": {},
   "outputs": [
    {
     "data": {
      "text/plain": [
       "str"
      ]
     },
     "execution_count": 6,
     "metadata": {},
     "output_type": "execute_result"
    }
   ],
   "source": [
    "type(a)"
   ]
  },
  {
   "cell_type": "code",
   "execution_count": null,
   "id": "3bce6b41",
   "metadata": {},
   "outputs": [],
   "source": []
  }
 ],
 "metadata": {
  "kernelspec": {
   "display_name": "Python 3 (ipykernel)",
   "language": "python",
   "name": "python3"
  },
  "language_info": {
   "codemirror_mode": {
    "name": "ipython",
    "version": 3
   },
   "file_extension": ".py",
   "mimetype": "text/x-python",
   "name": "python",
   "nbconvert_exporter": "python",
   "pygments_lexer": "ipython3",
   "version": "3.9.13"
  }
 },
 "nbformat": 4,
 "nbformat_minor": 5
}
