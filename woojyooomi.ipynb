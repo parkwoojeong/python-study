{
 "cells": [
  {
   "cell_type": "code",
   "execution_count": 1,
   "id": "6364bd26",
   "metadata": {},
   "outputs": [
    {
     "name": "stdout",
     "output_type": "stream",
     "text": [
      "안녕하세요\n"
     ]
    }
   ],
   "source": [
    "print(\"안녕하세요\")"
   ]
  },
  {
   "cell_type": "markdown",
   "id": "1dd0882c",
   "metadata": {},
   "source": [
    "# 1단계 제목\n",
    "## 2단계 지목\n",
    "### 3단계 제목\n",
    "일반 서식 **강조** 입니**다**"
   ]
  },
  {
   "cell_type": "code",
   "execution_count": 2,
   "id": "ea7f38f7",
   "metadata": {},
   "outputs": [
    {
     "name": "stdout",
     "output_type": "stream",
     "text": [
      " C 드라이브의 볼륨에는 이름이 없습니다.\n",
      " 볼륨 일련 번호: 88E2-3D64\n",
      "\n",
      " C:\\Users\\USER\\Documents 디렉터리\n",
      "\n",
      "2023-01-19  오후 07:01    <DIR>          .\n",
      "2023-01-19  오후 07:01    <DIR>          ..\n",
      "2023-01-19  오후 06:59    <DIR>          .ipynb_checkpoints\n",
      "2018-11-14  오전 10:52    <DIR>          Bandicam\n",
      "2018-10-18  오후 01:48    <DIR>          ezPDFReader3.0\n",
      "2020-10-05  오후 07:53    <DIR>          oCam\n",
      "2019-01-04  오후 06:17    <DIR>          uccast\n",
      "2023-01-19  오후 07:01               846 woojyooomi.ipynb\n",
      "2021-10-25  오전 09:17    <DIR>          Zoom\n",
      "2021-01-20  오후 01:35    <DIR>          _tmp2011\n",
      "2021-08-23  오후 06:35    <DIR>          멜론 보관함\n",
      "2018-04-15  오후 04:20    <DIR>          사용자 지정 Office 서식 파일\n",
      "2022-11-22  오후 08:55    <DIR>          카카오톡 받은 파일\n",
      "               1개 파일                 846 바이트\n",
      "              12개 디렉터리  23,673,704,448 바이트 남음\n"
     ]
    }
   ],
   "source": [
    "!dir"
   ]
  },
  {
   "cell_type": "code",
   "execution_count": 5,
   "id": "bd87aae2",
   "metadata": {},
   "outputs": [
    {
     "data": {
      "text/plain": [
       "'바보'"
      ]
     },
     "execution_count": 5,
     "metadata": {},
     "output_type": "execute_result"
    }
   ],
   "source": [
    "a = \"바보\"\n",
    "a"
   ]
  },
  {
   "cell_type": "code",
   "execution_count": 6,
   "id": "4afaff4b",
   "metadata": {},
   "outputs": [
    {
     "data": {
      "text/plain": [
       "str"
      ]
     },
     "execution_count": 6,
     "metadata": {},
     "output_type": "execute_result"
    }
   ],
   "source": [
    "type(a)"
   ]
  },
  {
   "cell_type": "code",
   "execution_count": 7,
   "id": "af021930",
   "metadata": {},
   "outputs": [
    {
     "name": "stdout",
     "output_type": "stream",
     "text": [
      "It's mine.\n"
     ]
    }
   ],
   "source": [
    "sen = \"It's mine.\"\n",
    "print(sen)"
   ]
  },
  {
   "cell_type": "code",
   "execution_count": 8,
   "id": "5e8be6dd",
   "metadata": {},
   "outputs": [
    {
     "name": "stdout",
     "output_type": "stream",
     "text": [
      "\"It is impossible.\" He says.\n"
     ]
    }
   ],
   "source": [
    "sen2 = '\"It is impossible.\" He says.'\n",
    "print(sen2)"
   ]
  },
  {
   "cell_type": "code",
   "execution_count": 13,
   "id": "a37da367",
   "metadata": {},
   "outputs": [
    {
     "name": "stdout",
     "output_type": "stream",
     "text": [
      "It's mine.\n"
     ]
    }
   ],
   "source": [
    "sen3 = 'It\\'s mine.'\n",
    "print(sen3)"
   ]
  },
  {
   "cell_type": "code",
   "execution_count": 14,
   "id": "c1503b9d",
   "metadata": {},
   "outputs": [
    {
     "name": "stdout",
     "output_type": "stream",
     "text": [
      "\"It is impossible.\" He says.\n"
     ]
    }
   ],
   "source": [
    "sen4 = \"\\\"It is impossible.\\\" He says.\"\n",
    "print(sen4)"
   ]
  },
  {
   "cell_type": "code",
   "execution_count": 15,
   "id": "b159bfb0",
   "metadata": {},
   "outputs": [
    {
     "name": "stdout",
     "output_type": "stream",
     "text": [
      "Hello!\n",
      "python!\n"
     ]
    }
   ],
   "source": [
    "a = \"\"\"Hello!\n",
    "python!\"\"\"\n",
    "print(a)"
   ]
  },
  {
   "cell_type": "code",
   "execution_count": 18,
   "id": "c666a6cb",
   "metadata": {},
   "outputs": [
    {
     "name": "stdout",
     "output_type": "stream",
     "text": [
      "Hello! \n",
      "python!\n"
     ]
    }
   ],
   "source": [
    "a = \"Hello! \\npython!\"\n",
    "print(a)"
   ]
  },
  {
   "cell_type": "code",
   "execution_count": 22,
   "id": "9bd01685",
   "metadata": {},
   "outputs": [
    {
     "name": "stdout",
     "output_type": "stream",
     "text": [
      "Hello! python!\n"
     ]
    }
   ],
   "source": [
    "a = \"Hello! \"\n",
    "b = \"python!\"\n",
    "print(a + b)"
   ]
  },
  {
   "cell_type": "code",
   "execution_count": 23,
   "id": "38842f72",
   "metadata": {},
   "outputs": [
    {
     "data": {
      "text/plain": [
       "'Hello! Hello! Hello! '"
      ]
     },
     "execution_count": 23,
     "metadata": {},
     "output_type": "execute_result"
    }
   ],
   "source": [
    "a * 3"
   ]
  },
  {
   "cell_type": "code",
   "execution_count": 24,
   "id": "7c28c241",
   "metadata": {},
   "outputs": [
    {
     "data": {
      "text/plain": [
       "'263'"
      ]
     },
     "execution_count": 24,
     "metadata": {},
     "output_type": "execute_result"
    }
   ],
   "source": [
    "a = '26'\n",
    "b = '3'\n",
    "a+b"
   ]
  },
  {
   "cell_type": "code",
   "execution_count": 25,
   "id": "028e5336",
   "metadata": {},
   "outputs": [
    {
     "data": {
      "text/plain": [
       "'262626'"
      ]
     },
     "execution_count": 25,
     "metadata": {},
     "output_type": "execute_result"
    }
   ],
   "source": [
    "a*3"
   ]
  },
  {
   "cell_type": "code",
   "execution_count": 27,
   "id": "30695039",
   "metadata": {},
   "outputs": [],
   "source": [
    "a = \"Hello! python!\""
   ]
  },
  {
   "cell_type": "code",
   "execution_count": 28,
   "id": "c9f1dc55",
   "metadata": {},
   "outputs": [
    {
     "data": {
      "text/plain": [
       "'!'"
      ]
     },
     "execution_count": 28,
     "metadata": {},
     "output_type": "execute_result"
    }
   ],
   "source": [
    "a[-1]"
   ]
  },
  {
   "cell_type": "code",
   "execution_count": 29,
   "id": "83582be3",
   "metadata": {},
   "outputs": [
    {
     "data": {
      "text/plain": [
       "'lo! py'"
      ]
     },
     "execution_count": 29,
     "metadata": {},
     "output_type": "execute_result"
    }
   ],
   "source": [
    "a[3:9]"
   ]
  },
  {
   "cell_type": "code",
   "execution_count": 30,
   "id": "a77f4f88",
   "metadata": {},
   "outputs": [
    {
     "data": {
      "text/plain": [
       "'lo! python!'"
      ]
     },
     "execution_count": 30,
     "metadata": {},
     "output_type": "execute_result"
    }
   ],
   "source": [
    "a[3:]"
   ]
  },
  {
   "cell_type": "code",
   "execution_count": 32,
   "id": "14f95887",
   "metadata": {},
   "outputs": [
    {
     "data": {
      "text/plain": [
       "'Hello! python!'"
      ]
     },
     "execution_count": 32,
     "metadata": {},
     "output_type": "execute_result"
    }
   ],
   "source": [
    "a[:]"
   ]
  },
  {
   "cell_type": "code",
   "execution_count": 33,
   "id": "bad3b10a",
   "metadata": {},
   "outputs": [
    {
     "data": {
      "text/plain": [
       "'I eat 3 bananas.'"
      ]
     },
     "execution_count": 33,
     "metadata": {},
     "output_type": "execute_result"
    }
   ],
   "source": [
    "\"I eat %s bananas.\" %3"
   ]
  },
  {
   "cell_type": "code",
   "execution_count": 35,
   "id": "1752d088",
   "metadata": {},
   "outputs": [
    {
     "data": {
      "text/plain": [
       "'I eat three bananas.'"
      ]
     },
     "execution_count": 35,
     "metadata": {},
     "output_type": "execute_result"
    }
   ],
   "source": [
    "'I eat %s bananas.' %'three'"
   ]
  },
  {
   "cell_type": "code",
   "execution_count": 36,
   "id": "e3ee22a0",
   "metadata": {},
   "outputs": [
    {
     "data": {
      "text/plain": [
       "'I like blue color.'"
      ]
     },
     "execution_count": 36,
     "metadata": {},
     "output_type": "execute_result"
    }
   ],
   "source": [
    "color = 'blue'\n",
    "'I like %s color.' %color"
   ]
  },
  {
   "cell_type": "code",
   "execution_count": null,
   "id": "92fb069f",
   "metadata": {},
   "outputs": [],
   "source": []
  }
 ],
 "metadata": {
  "kernelspec": {
   "display_name": "Python 3 (ipykernel)",
   "language": "python",
   "name": "python3"
  },
  "language_info": {
   "codemirror_mode": {
    "name": "ipython",
    "version": 3
   },
   "file_extension": ".py",
   "mimetype": "text/x-python",
   "name": "python",
   "nbconvert_exporter": "python",
   "pygments_lexer": "ipython3",
   "version": "3.9.13"
  }
 },
 "nbformat": 4,
 "nbformat_minor": 5
}
